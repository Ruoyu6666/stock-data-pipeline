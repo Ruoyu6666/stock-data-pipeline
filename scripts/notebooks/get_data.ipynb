{
 "cells": [
  {
   "cell_type": "code",
   "execution_count": 2,
   "id": "36476e65",
   "metadata": {},
   "outputs": [],
   "source": [
    "import pandas as pd\n",
    "import yfinance as yf\n",
    "\n",
    "import yaml"
   ]
  },
  {
   "cell_type": "markdown",
   "id": "f402a43d",
   "metadata": {},
   "source": [
    "# Extract\n",
    "## Dax"
   ]
  },
  {
   "cell_type": "code",
   "execution_count": 2,
   "id": "85d3857a",
   "metadata": {},
   "outputs": [],
   "source": [
    "# Scrape from Wikipedia\n",
    "url = 'https://en.wikipedia.org/wiki/DAX'\n",
    "wiki_tables = pd.read_html(url)\n",
    "dax_table = wiki_tables[4]\n",
    "dax_tickers = dax_table['Ticker'].tolist()"
   ]
  },
  {
   "cell_type": "markdown",
   "id": "7ebd256d",
   "metadata": {},
   "source": [
    "## Nasdaq"
   ]
  },
  {
   "cell_type": "code",
   "execution_count": null,
   "id": "5f828cf7",
   "metadata": {},
   "outputs": [],
   "source": [
    "nasdaq_url = 'https://en.wikipedia.org/wiki/Nasdaq-100'\n",
    "nasdaq_wiki_tables = pd.read_html(nasdaq_url)\n",
    "nasdaq_table = nasdaq_wiki_tables[4]"
   ]
  },
  {
   "cell_type": "code",
   "execution_count": null,
   "id": "0b9d54f3",
   "metadata": {},
   "outputs": [],
   "source": [
    "nasdaq_tickers=[\"GOOGL\", \"CHTR\",\"CMCSA\",\"META\", \"NFLX\",\"TMUS\",\"WBD\",\n",
    "                \"AMZN\",\"ASML\",\"TSLA\",\"AAPL\",\"CSCO\",\"MSFT\",\"NVDA\",\"PLTR\"]\n",
    "nasdaq_table_sub = nasdaq_table[nasdaq_table[\"Ticker\"].isin(nasdaq_tickers)]\n",
    "nasdaq_table_sub.head(3)"
   ]
  },
  {
   "cell_type": "code",
   "execution_count": 63,
   "id": "8d1c7c97",
   "metadata": {},
   "outputs": [],
   "source": [
    "nasdaq_table_sub.to_csv('../data/nasdaq.csv', index=False) "
   ]
  },
  {
   "cell_type": "code",
   "execution_count": 60,
   "id": "2cf685d1",
   "metadata": {},
   "outputs": [
    {
     "data": {
      "text/plain": [
       "(1560, 7)"
      ]
     },
     "execution_count": 60,
     "metadata": {},
     "output_type": "execute_result"
    }
   ],
   "source": [
    "ticker = yf.Ticker(\"NVDA\")  # Example ticker for NVIDIA\n",
    "data = ticker.history(period=\"60d\", interval=\"15m\")  # 1-minute data\n",
    "data.shape\n",
    "# 1min:  8day, 3071\n",
    "# 5min,  60d,  4677\n",
    "# 15min, 60d,  1560"
   ]
  },
  {
   "cell_type": "code",
   "execution_count": 12,
   "id": "9618ccd9",
   "metadata": {},
   "outputs": [],
   "source": [
    "with open(\"../../configs/etl.yaml\") as f:\n",
    "    etl_cfg = yaml.load(f, Loader=yaml.FullLoader)"
   ]
  },
  {
   "cell_type": "markdown",
   "id": "ddd83035",
   "metadata": {},
   "source": [
    "# Transform"
   ]
  },
  {
   "cell_type": "code",
   "execution_count": null,
   "id": "ac5ec1c6",
   "metadata": {},
   "outputs": [],
   "source": []
  }
 ],
 "metadata": {
  "kernelspec": {
   "display_name": "project",
   "language": "python",
   "name": "python3"
  },
  "language_info": {
   "codemirror_mode": {
    "name": "ipython",
    "version": 3
   },
   "file_extension": ".py",
   "mimetype": "text/x-python",
   "name": "python",
   "nbconvert_exporter": "python",
   "pygments_lexer": "ipython3",
   "version": "3.11.11"
  }
 },
 "nbformat": 4,
 "nbformat_minor": 5
}
